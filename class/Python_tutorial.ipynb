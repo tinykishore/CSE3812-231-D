{
 "cells": [
  {
   "cell_type": "markdown",
   "metadata": {
    "id": "sRRcLH3HtlkT"
   },
   "source": [
    "Python Tutorial"
   ]
  },
  {
   "cell_type": "code",
   "execution_count": 2,
   "metadata": {
    "colab": {
     "base_uri": "https://localhost:8080/"
    },
    "id": "lyYb1x1T2bLO",
    "outputId": "26d80e48-b8c8-4aec-d46c-7b932e29e1b3"
   },
   "outputs": [
    {
     "name": "stdout",
     "output_type": "stream",
     "text": [
      "5.5\n",
      "abc\n",
      "This is our first class\n",
      "Hello World\n"
     ]
    }
   ],
   "source": [
    "#google colab setup ->\n",
    "#https://www.youtube.com/watch?v=RTOOo39iaSU&fbclid=IwAR3d4ONzNXsfRxGVOF0VQhiwhwnk4pfcKRTTHt5GXmwKJNSO-Xr180HZ7Pk\n",
    "# python3 and other libraries already installed\n",
    "\n",
    "#You can follow w3schools for cool python tutorials\n",
    "\n",
    "# Taking user input in python\n",
    "\n",
    "x = 3\n",
    "x = 'abc'\n",
    "y = 5.5\n",
    "#printf(\"Hellow world\")\n",
    "#printf(\"%d\", x);\n",
    "\n",
    "print(y)\n",
    "print(x)\n",
    "print('This is our first class')\n",
    "print(\"Hello World\")"
   ]
  },
  {
   "cell_type": "code",
   "execution_count": 3,
   "metadata": {
    "colab": {
     "base_uri": "https://localhost:8080/"
    },
    "id": "IXHa97Vg2ke3",
    "outputId": "d95fd9c1-0676-4492-923c-10671c4f41f1"
   },
   "outputs": [
    {
     "ename": "ValueError",
     "evalue": "invalid literal for int() with base 10: ''",
     "output_type": "error",
     "traceback": [
      "\u001b[0;31m---------------------------------------------------------------------------\u001b[0m",
      "\u001b[0;31mValueError\u001b[0m                                Traceback (most recent call last)",
      "Cell \u001b[0;32mIn[3], line 2\u001b[0m\n\u001b[1;32m      1\u001b[0m \u001b[38;5;66;03m#scanf(\"%d\", &x);\u001b[39;00m\n\u001b[0;32m----> 2\u001b[0m i \u001b[38;5;241m=\u001b[39m \u001b[38;5;28;43mint\u001b[39;49m\u001b[43m(\u001b[49m\u001b[38;5;28;43minput\u001b[39;49m\u001b[43m(\u001b[49m\u001b[43m(\u001b[49m\u001b[38;5;124;43m\"\u001b[39;49m\u001b[38;5;124;43mEnter number:\u001b[39;49m\u001b[38;5;124;43m\"\u001b[39;49m\u001b[43m)\u001b[49m\u001b[43m)\u001b[49m\u001b[43m)\u001b[49m\n\u001b[1;32m      3\u001b[0m j \u001b[38;5;241m=\u001b[39m \u001b[38;5;28mint\u001b[39m(\u001b[38;5;28minput\u001b[39m((\u001b[38;5;124m\"\u001b[39m\u001b[38;5;124mEnter number:\u001b[39m\u001b[38;5;124m\"\u001b[39m)))\n\u001b[1;32m      5\u001b[0m result \u001b[38;5;241m=\u001b[39m i\u001b[38;5;241m+\u001b[39mj\n",
      "\u001b[0;31mValueError\u001b[0m: invalid literal for int() with base 10: ''"
     ]
    }
   ],
   "source": [
    "#scanf(\"%d\", &x);\n",
    "i = int(input((\"Enter number:\")))\n",
    "j = int(input((\"Enter number:\")))\n",
    "\n",
    "result = i+j\n",
    "print(result)\n",
    "\n",
    "\n",
    "#x = float(input(\"Enter first number:\"))\n",
    "#y = float(input(\"Enter second number:\"))\n",
    "#sum = x+y\n",
    "\n",
    "#num = int(input(\"Enter a number: \"))\n",
    "#num = input(\"Enter a value: \")\n",
    "#sum = num + 5  \n",
    "#print(sum)"
   ]
  },
  {
   "cell_type": "markdown",
   "metadata": {
    "id": "nSbbLX8JpeBR"
   },
   "source": [
    "This is the First Class"
   ]
  },
  {
   "cell_type": "markdown",
   "metadata": {
    "id": "myjpArdH-x1v"
   },
   "source": []
  },
  {
   "cell_type": "code",
   "execution_count": null,
   "metadata": {
    "colab": {
     "base_uri": "https://localhost:8080/"
    },
    "id": "igUvNBOX2pIg",
    "outputId": "f7d213d3-8f1a-4bed-df1c-f0d6c138c1dc"
   },
   "outputs": [],
   "source": [
    "name1 = \"Nabila Sabrin\"\n",
    "name2 = \"Sworna\"\n",
    "full_name = name1 +\" \" + name2\n",
    "print(full_name)"
   ]
  },
  {
   "cell_type": "code",
   "execution_count": null,
   "metadata": {
    "colab": {
     "base_uri": "https://localhost:8080/"
    },
    "id": "HBHw6y2b2ze1",
    "outputId": "54bb4700-c51b-4cfa-b68e-0bf68939ee28"
   },
   "outputs": [],
   "source": [
    "list1 = [1, 2, 5] # list\n",
    "num1 = 10\n",
    "num2 = 5\n",
    "sum = num1 + num2\n",
    "#printf(\"The summation of %d and %d is %d\", a,b,sum);\n",
    "\n",
    "print(f'The summation of {num1} and {num2} is {sum}')\n",
    "\n",
    "print(f\"The result is {sum}\")\n",
    "\n",
    "print(f'Addition of two numbers: {sum}')\n",
    "\n",
    "print(f'the value of sum is: {sum}')\n",
    "\n",
    "#printf(\"add %d and %d and result is %d\", x,y,sum);\n",
    "#print(f'my input number is: {num}, array is: {array}')\n",
    "#print(f'add {num1} and {num2} and result is {sum}')"
   ]
  },
  {
   "cell_type": "code",
   "execution_count": null,
   "metadata": {
    "colab": {
     "base_uri": "https://localhost:8080/"
    },
    "id": "whN7eT5_23aF",
    "outputId": "486723de-9d77-4390-818f-4ea42b55521d"
   },
   "outputs": [],
   "source": [
    "a = 30\n",
    "b = 20\n",
    "#indentation\n",
    "\n",
    "if a>b:\n",
    "  print(\"hello\")\n",
    "  if a>5:\n",
    "    print(\"a is greater than 5\")\n",
    "  else:\n",
    "    print(\"a is less than or equal to 5\")\n",
    "\n",
    "  print('a is larger than b')\n",
    "elif b>a:\n",
    "  print('b is larger than a')\n",
    "else:\n",
    "  print('both are equal')\n",
    "print(\"This is the outside of the If-Else block\")\n",
    "\n",
    "if a>20 and a<35:\n",
    "  print(\"true\")\n",
    "else:\n",
    "  print('false')\n",
    "\n",
    "if a==30:\n",
    "  print(\"a is equal to 30\")"
   ]
  },
  {
   "cell_type": "code",
   "execution_count": null,
   "metadata": {},
   "outputs": [],
   "source": []
  },
  {
   "cell_type": "code",
   "execution_count": null,
   "metadata": {
    "colab": {
     "base_uri": "https://localhost:8080/"
    },
    "id": "EaM-dGMj25w_",
    "outputId": "6e127395-37b7-42c5-a5a0-e293f4923fef"
   },
   "outputs": [],
   "source": [
    "#set, tuple, list, dictionary\n",
    "#w3school\n",
    "listt = ['a', 'b', 5, 6.0]\n",
    "print(listt[2])\n",
    "thislist = ['banana', 'apple', [55, 66], 'orange', [2.5, 7.3, 4.9]]\n",
    "print(thislist[1])\n",
    "print(thislist[2][0])\n",
    "print(thislist[4][1])"
   ]
  },
  {
   "cell_type": "code",
   "execution_count": null,
   "metadata": {
    "colab": {
     "base_uri": "https://localhost:8080/"
    },
    "id": "XnX-3gGp295M",
    "outputId": "e227bd09-9ccb-4c4d-b284-7d0bb0b0f3f2"
   },
   "outputs": [],
   "source": [
    "thislist[0] = 'blackcurrent'\n",
    "print(thislist)"
   ]
  },
  {
   "cell_type": "code",
   "execution_count": null,
   "metadata": {
    "colab": {
     "base_uri": "https://localhost:8080/"
    },
    "id": "RJ1a3jR03Gpe",
    "outputId": "2c7e9502-ee72-4e3d-f671-bcb2c1dd15ba"
   },
   "outputs": [],
   "source": [
    "thislist.append('banana')\n",
    "print(thislist)"
   ]
  },
  {
   "cell_type": "code",
   "execution_count": null,
   "metadata": {
    "colab": {
     "base_uri": "https://localhost:8080/"
    },
    "id": "7TF6wduJ3KZk",
    "outputId": "ffc68d6d-7cea-435c-e38a-5fb29797fc0e"
   },
   "outputs": [],
   "source": [
    "thislist.insert(1, 'berry')\n",
    "thislist.append('pineapple')\n",
    "thislist.append('banana')\n",
    "print(thislist)"
   ]
  },
  {
   "cell_type": "code",
   "execution_count": null,
   "metadata": {
    "colab": {
     "base_uri": "https://localhost:8080/"
    },
    "id": "wWzEgkcj3O2N",
    "outputId": "3703a2a5-b425-42a7-9695-c71af5572245"
   },
   "outputs": [],
   "source": [
    "thislist.remove('banana')\n",
    "print(thislist)"
   ]
  },
  {
   "cell_type": "code",
   "execution_count": null,
   "metadata": {
    "colab": {
     "base_uri": "https://localhost:8080/"
    },
    "id": "mJbRjGpL3Sl2",
    "outputId": "c7ca111b-8284-4f07-e569-e905bb80d2dc"
   },
   "outputs": [],
   "source": [
    "thislist.append('apple')\n",
    "print(thislist)"
   ]
  },
  {
   "cell_type": "code",
   "execution_count": null,
   "metadata": {
    "colab": {
     "base_uri": "https://localhost:8080/"
    },
    "id": "vCbU8mr93Xt0",
    "outputId": "33038250-d045-47ec-dac5-ea6b48918c47"
   },
   "outputs": [],
   "source": [
    "thislist.remove('apple')\n",
    "print(thislist)"
   ]
  },
  {
   "cell_type": "code",
   "execution_count": null,
   "metadata": {
    "colab": {
     "base_uri": "https://localhost:8080/"
    },
    "id": "dKmbZPNn3ifG",
    "outputId": "8a500654-7833-4a0e-8f5f-a058cef77613"
   },
   "outputs": [],
   "source": [
    "print(thislist)\n",
    "\n",
    "if 'orange' in thislist:\n",
    "  print('true')\n",
    "else:\n",
    "  print('false')\n",
    "\n",
    "if 'berry' not in thislist:\n",
    "  print(\"not found\")\n",
    "else:\n",
    "  print(\"found\")"
   ]
  },
  {
   "cell_type": "code",
   "execution_count": null,
   "metadata": {
    "colab": {
     "base_uri": "https://localhost:8080/"
    },
    "id": "cu6B2BfW3rO1",
    "outputId": "c7f0789a-1565-482f-a24d-eb1925acb317"
   },
   "outputs": [],
   "source": [
    "thislist.clear()\n",
    "print(thislist)"
   ]
  },
  {
   "cell_type": "code",
   "execution_count": null,
   "metadata": {
    "colab": {
     "base_uri": "https://localhost:8080/"
    },
    "id": "gdDX4mZz3wCl",
    "outputId": "0b498ca7-bcf6-4e3c-af59-efebfe31edfb"
   },
   "outputs": [],
   "source": [
    "#list slicing\n",
    "a = [1,2,4,6,7,8,9,10] # indexing starts from 0 ends at len-1 (0 to 7)\n",
    "\n",
    "#a[starting_index:ending_index+1]\n",
    "print(len(a))\n",
    "print(a[1:6])\n",
    "print(a[3:7])\n",
    "print(a[2:len(a)])\n",
    "print(a[2:8])\n",
    "print(a[:6])\n",
    "print(a[2:])\n",
    "print(a[:])\n",
    "print(a[-3:])"
   ]
  },
  {
   "cell_type": "code",
   "execution_count": null,
   "metadata": {
    "colab": {
     "base_uri": "https://localhost:8080/"
    },
    "id": "pv3TSajb31qF",
    "outputId": "22e236e9-b2e8-47ce-c4ef-24b2ce51fac9"
   },
   "outputs": [],
   "source": [
    "b = [1,2,4,6,7,8,9,10]\n",
    "result = a + b\n",
    "print(a + b)"
   ]
  },
  {
   "cell_type": "code",
   "execution_count": null,
   "metadata": {
    "colab": {
     "base_uri": "https://localhost:8080/"
    },
    "id": "YxEc66Fk342t",
    "outputId": "7d303c72-0e1a-4395-95db-df9c1703a85a"
   },
   "outputs": [],
   "source": [
    "#iterate through a list\n",
    "fruits = ['orange', 'apple', 'banana', 23, [56.5, 57.3]]\n",
    "\n",
    "for a in fruits:\n",
    "  print(a)\n",
    "\n",
    "for x in 'banana':\n",
    "  print(x)"
   ]
  },
  {
   "cell_type": "code",
   "execution_count": null,
   "metadata": {
    "colab": {
     "base_uri": "https://localhost:8080/"
    },
    "id": "DPcyKnrr39Nd",
    "outputId": "66c0f989-b707-4b6f-f2c8-e9be56071a70"
   },
   "outputs": [],
   "source": [
    "for x in fruits:\n",
    "  print(x)\n",
    "  if x == 'apple':\n",
    "    break\n"
   ]
  },
  {
   "cell_type": "code",
   "execution_count": null,
   "metadata": {
    "colab": {
     "base_uri": "https://localhost:8080/"
    },
    "id": "f_2zqwcG4Da9",
    "outputId": "8e4aa371-e4b3-4b39-a009-477285fed6f5"
   },
   "outputs": [],
   "source": [
    "for i in range(10, 100, 10):\n",
    "  print(i)"
   ]
  },
  {
   "cell_type": "code",
   "execution_count": null,
   "metadata": {
    "colab": {
     "base_uri": "https://localhost:8080/"
    },
    "id": "jMq9VqxP4Gy1",
    "outputId": "5e0e219e-f750-4f2f-fd0e-539c26ecc08d"
   },
   "outputs": [],
   "source": [
    "thisdict = {\n",
    "    \"brand\": \"Ford\",\n",
    "    \"model\": \"Mustang\",\n",
    "    \"year\": 1964\n",
    "}\n",
    "print(thisdict)\n",
    "print(thisdict['brand'])\n",
    "x = list(thisdict.keys())\n",
    "print(x[0])"
   ]
  },
  {
   "cell_type": "code",
   "execution_count": null,
   "metadata": {
    "colab": {
     "base_uri": "https://localhost:8080/"
    },
    "id": "RBR0sAid4Kdd",
    "outputId": "9f5e5dd9-5311-4df4-9f3d-2167e7dd84c9"
   },
   "outputs": [],
   "source": [
    "thisdict['color'] = ['red', 'black']\n",
    "print(thisdict)\n",
    "thisdict[\"brand\"] = 'Mustang'\n",
    "print(thisdict)"
   ]
  },
  {
   "cell_type": "code",
   "execution_count": null,
   "metadata": {
    "colab": {
     "base_uri": "https://localhost:8080/"
    },
    "id": "Vm-iKpX34N9N",
    "outputId": "bb7c1599-d0fc-4ef8-b87d-ff118d359920"
   },
   "outputs": [],
   "source": [
    "for x in thisdict:\n",
    "  print(thisdict[x])\n",
    "print(len(thisdict))"
   ]
  },
  {
   "cell_type": "code",
   "execution_count": null,
   "metadata": {
    "colab": {
     "base_uri": "https://localhost:8080/"
    },
    "id": "ObUNLtPA4Tvl",
    "outputId": "31cda273-8e96-4e67-95a4-21fe1e8cd330"
   },
   "outputs": [],
   "source": [
    "val_list = []\n",
    "for x in thisdict:\n",
    "  val_list.append(thisdict[x])\n",
    "print(val_list)"
   ]
  },
  {
   "cell_type": "code",
   "execution_count": null,
   "metadata": {
    "colab": {
     "base_uri": "https://localhost:8080/"
    },
    "id": "iY1epN7V4aDP",
    "outputId": "bd1e853c-4a56-4be2-8f95-37f79c0e613c"
   },
   "outputs": [],
   "source": [
    "def sign(x):\n",
    "  if x > 0:\n",
    "    return 'positive'\n",
    "  elif x < 0:\n",
    "    return 'negative'\n",
    "  else:\n",
    "    return 'zero'\n",
    "\n",
    "for x in [-1, 0, 1]:\n",
    "  print(sign(x))\n"
   ]
  },
  {
   "cell_type": "code",
   "execution_count": null,
   "metadata": {
    "colab": {
     "base_uri": "https://localhost:8080/"
    },
    "id": "KwUnJpoQ4f4F",
    "outputId": "ae9c51a6-f536-4f23-b4cf-2496b0812380"
   },
   "outputs": [],
   "source": [
    "def test(arr):\n",
    "  return (arr + arr)\n",
    "\n",
    "print(test([1,2,3,4]))"
   ]
  },
  {
   "cell_type": "code",
   "execution_count": null,
   "metadata": {
    "colab": {
     "base_uri": "https://localhost:8080/"
    },
    "id": "upb3tSIb4ljN",
    "outputId": "fc84b562-d73f-4b08-a007-2b7a888b00f7"
   },
   "outputs": [],
   "source": [
    "def minmax(listt):\n",
    "  return min(listt), max(listt)\n",
    "\n",
    "listt = [1,5,0,2,7]\n",
    "small, large = minmax(listt)\n",
    "print(f'min: {small}, max: {large}')"
   ]
  },
  {
   "cell_type": "code",
   "execution_count": null,
   "metadata": {
    "colab": {
     "base_uri": "https://localhost:8080/"
    },
    "id": "ySj3vgl44oo1",
    "outputId": "1f5f41ce-5bc5-4749-bdde-47784411cf23"
   },
   "outputs": [],
   "source": [
    "listt = [\n",
    "         [1,2,4],\n",
    "         [6,8],\n",
    "         [3,4,5,7]\n",
    "]\n",
    "\n",
    "print(listt)\n",
    "print(type(listt))"
   ]
  },
  {
   "cell_type": "code",
   "execution_count": null,
   "metadata": {
    "colab": {
     "base_uri": "https://localhost:8080/"
    },
    "id": "4ID_VVZQfxgn",
    "outputId": "56ebd29d-426f-486f-81c8-a3e166609619"
   },
   "outputs": [],
   "source": [
    "#numpy tutorial - http://cs231n.github.io/python-numpy-tutorial/#numpy-arrays\n",
    "# you can follow this link for the basics of numpy\n",
    "\n",
    "# numpy uses the facility of GPU. So, try to use it instead of for loop\n",
    "\n",
    "import numpy as np\n",
    "\n",
    "a = np.array([1, 2, 3])   # Create a rank 1 array\n",
    "print(type(a))            # Prints \"<class 'numpy.ndarray'>\"\n",
    "print(a.shape)            # Prints \"(3,)\"\n",
    "print(a[0],a[1], a[2])   # Prints \"1 2 3\"\n",
    "a[0] = 5                  # Change an element of the array\n",
    "print(a)"
   ]
  },
  {
   "cell_type": "code",
   "execution_count": null,
   "metadata": {
    "colab": {
     "base_uri": "https://localhost:8080/"
    },
    "id": "0Jk-RmWrf6pW",
    "outputId": "18528686-5f0a-4765-a034-6a53ed4b652d"
   },
   "outputs": [],
   "source": [
    "b = np.array([[1,2,3],\n",
    "              [5,7,8]])\n",
    "print(b.shape)\n",
    "print(b[0][0], b[0,1])\n",
    "print(b[0,2])"
   ]
  },
  {
   "cell_type": "code",
   "execution_count": null,
   "metadata": {
    "colab": {
     "base_uri": "https://localhost:8080/"
    },
    "id": "Ys88yF6_f_92",
    "outputId": "f3512fe0-4197-43a5-a0d0-ca222f166cd2"
   },
   "outputs": [],
   "source": [
    "array1 = np.random.random((2,2)) # create an array and filled with random values\n",
    "print(array1)"
   ]
  },
  {
   "cell_type": "code",
   "execution_count": null,
   "metadata": {
    "colab": {
     "base_uri": "https://localhost:8080/"
    },
    "id": "M6SKmrdcgCvm",
    "outputId": "0d8b0038-dc73-4c78-861e-49bb264dcd7d"
   },
   "outputs": [],
   "source": [
    "a = np.array([\n",
    "              [1,2,3,4],\n",
    "              [4,5,7,8],\n",
    "              [7,8,9,0]\n",
    "              ])\n",
    "\n",
    "print(a)\n",
    "print(a[1:3 , 0:3]) # Rank 2 view of the second row of a\n",
    "print(a[0:2, 1:3])"
   ]
  },
  {
   "cell_type": "code",
   "execution_count": null,
   "metadata": {
    "colab": {
     "base_uri": "https://localhost:8080/"
    },
    "id": "6aOC86rrgKP4",
    "outputId": "42c7d0d2-1936-4025-e7cc-f6fb3be11a01"
   },
   "outputs": [],
   "source": [
    "# you can explicitly specify data type\n",
    "x = np.array([[1,2], [3,4]], dtype=np.float64)\n",
    "y = np.array([[5,6], [7,8]], dtype=np.float64)\n",
    "\n",
    "print(x + y)\n",
    "print(np.add(x,y))\n",
    "#O(1)"
   ]
  },
  {
   "cell_type": "code",
   "execution_count": null,
   "metadata": {
    "colab": {
     "base_uri": "https://localhost:8080/"
    },
    "id": "nEqyLWFLgOqV",
    "outputId": "ace3b8f2-e1f2-4904-e00e-1be1d5c8093d"
   },
   "outputs": [],
   "source": [
    "u = x/y\n",
    "print(u)"
   ]
  },
  {
   "cell_type": "code",
   "execution_count": null,
   "metadata": {
    "colab": {
     "base_uri": "https://localhost:8080/"
    },
    "id": "jUyD2GP6gR-e",
    "outputId": "e0039be1-c1ed-482b-bc27-14babded8738"
   },
   "outputs": [],
   "source": [
    "z = x*y\n",
    "print(z)"
   ]
  },
  {
   "cell_type": "code",
   "execution_count": null,
   "metadata": {
    "colab": {
     "base_uri": "https://localhost:8080/"
    },
    "id": "VeDrsg69gVPN",
    "outputId": "0a45caf5-5444-431d-85fe-321c786ce3c7"
   },
   "outputs": [],
   "source": [
    "z = np.dot(x,y)\n",
    "# https://www.mathsisfun.com/algebra/matrix-multiplying.html  -> matrix dot product\n",
    "print(z)\n",
    "\n",
    "u = x.dot(y)\n",
    "print(u)"
   ]
  },
  {
   "cell_type": "code",
   "execution_count": null,
   "metadata": {
    "colab": {
     "base_uri": "https://localhost:8080/"
    },
    "id": "2Zaq4ltygZ-9",
    "outputId": "7563e457-a4f5-42b0-aa4d-fb61dfb31bc5"
   },
   "outputs": [],
   "source": [
    "x = np.array([\n",
    "              [1,2],\n",
    "              [3,4]\n",
    "])\n",
    "print(np.sum(x))\n",
    "print(np.sum(x, axis=0)) #compute sum of each column\n",
    "print(np.sum(x, axis=1)) #compute sum of each row\n",
    "\n",
    "print(x.T)"
   ]
  },
  {
   "cell_type": "code",
   "execution_count": null,
   "metadata": {
    "colab": {
     "base_uri": "https://localhost:8080/"
    },
    "id": "3T6Qc4Mxgchb",
    "outputId": "29011298-11e6-435b-89a0-a055412c3d49"
   },
   "outputs": [],
   "source": [
    "#conversion\n",
    "a =[[1,2,3], [4,5,6]]\n",
    "print(type(a))\n",
    "\n",
    "a = np.array(a)\n",
    "print(type(a))\n",
    "\n",
    "a = a.tolist()\n",
    "print(type(a))"
   ]
  },
  {
   "cell_type": "code",
   "execution_count": null,
   "metadata": {
    "colab": {
     "base_uri": "https://localhost:8080/"
    },
    "id": "0SAecUXGgcmv",
    "outputId": "9cd67781-b372-4e9e-9dc5-503aab14d8c9"
   },
   "outputs": [],
   "source": [
    "# When you assign a list to another list, then you assign by reference, not by value\n",
    "# This is a very important point to note\n",
    "# urlist = mylist # copy by reference\n",
    "list1 = [1,2,3]\n",
    "list2 = list1  #pass by reference\n",
    "list2.append(4)\n",
    "list2.remove(1)\n",
    "print(list1)\n",
    "print(list2)\n",
    "\n",
    "list3 = [1,2,3]\n",
    "list4 = list3.copy() #pass by value\n",
    "list4.append(4)\n",
    "list4.remove(2)\n",
    "print(list3)\n",
    "print(list4)"
   ]
  },
  {
   "cell_type": "code",
   "execution_count": null,
   "metadata": {
    "colab": {
     "base_uri": "https://localhost:8080/"
    },
    "id": "T0OPYnqJ4FjX",
    "outputId": "ad05a2b1-b20f-4aa8-c5a3-55a99882871f"
   },
   "outputs": [],
   "source": [
    "list1 = [1,2,3]\n",
    "list2 = list1.copy()\n",
    "list1.append(5)\n",
    "print(list1)\n",
    "print(list2)\n",
    "\n",
    "x = 5\n",
    "y = x\n",
    "\n",
    "y = 7\n",
    "\n",
    "print(x)\n",
    "print(y)"
   ]
  },
  {
   "cell_type": "code",
   "execution_count": null,
   "metadata": {
    "colab": {
     "base_uri": "https://localhost:8080/",
     "height": 265
    },
    "id": "yQc9QYrAgp9M",
    "outputId": "3b03ba05-9dc0-4a6e-c217-632b8d4827fd"
   },
   "outputs": [],
   "source": [
    "#Matplotlib\n",
    "\n",
    "import numpy as np\n",
    "import matplotlib.pyplot as plt\n",
    "import math\n",
    "\n",
    "# Compute the x and y coordinates for points on a sine curve\n",
    "x = np.arange(0, 3 * np.pi, 0.1) # [0, 0.1, 0.2, 0.3, ... 3*3.1416]\n",
    "#y = np.sin(x)  #uncomment this and see the magic\n",
    "y = 2*x \n",
    "\n",
    "# Plot the points using matplotlib\n",
    "plt.plot(x, y)\n",
    "plt.show()  # You must call plt.show() to make graphics appear"
   ]
  },
  {
   "cell_type": "code",
   "execution_count": 5,
   "metadata": {
    "colab": {
     "base_uri": "https://localhost:8080/"
    },
    "id": "gcbSNMQggvpA",
    "outputId": "4cb902df-0883-4e7b-dde5-5f325a6ff2c3"
   },
   "outputs": [
    {
     "name": "stdout",
     "output_type": "stream",
     "text": [
      "0\n"
     ]
    },
    {
     "ename": "TypeError",
     "evalue": "'builtin_function_or_method' object is not subscriptable",
     "output_type": "error",
     "traceback": [
      "\u001b[0;31m---------------------------------------------------------------------------\u001b[0m",
      "\u001b[0;31mTypeError\u001b[0m                                 Traceback (most recent call last)",
      "Cell \u001b[0;32mIn[5], line 31\u001b[0m\n\u001b[1;32m     26\u001b[0m       \u001b[38;5;28;01mreturn\u001b[39;00m \u001b[38;5;28;01mFalse\u001b[39;00m\n\u001b[1;32m     29\u001b[0m \u001b[38;5;28mprint\u001b[39m(Employee\u001b[38;5;241m.\u001b[39memp_num)\n\u001b[0;32m---> 31\u001b[0m emp_1 \u001b[38;5;241m=\u001b[39m \u001b[43mEmployee\u001b[49m\u001b[43m(\u001b[49m\u001b[38;5;124;43m'\u001b[39;49m\u001b[38;5;124;43mmusical\u001b[39;49m\u001b[38;5;124;43m'\u001b[39;49m\u001b[43m,\u001b[49m\u001b[43m \u001b[49m\u001b[38;5;124;43m'\u001b[39;49m\u001b[38;5;124;43mnasir\u001b[39;49m\u001b[38;5;124;43m'\u001b[39;49m\u001b[43m,\u001b[49m\u001b[43m \u001b[49m\u001b[38;5;241;43m50000\u001b[39;49m\u001b[43m)\u001b[49m\n\u001b[1;32m     35\u001b[0m \u001b[38;5;28mprint\u001b[39m(Employee\u001b[38;5;241m.\u001b[39memp_num)\n\u001b[1;32m     37\u001b[0m \u001b[38;5;28mprint\u001b[39m(emp_1\u001b[38;5;241m.\u001b[39mfullname())\n",
      "Cell \u001b[0;32mIn[5], line 7\u001b[0m, in \u001b[0;36mEmployee.__init__\u001b[0;34m(self, first, last, pay)\u001b[0m\n\u001b[1;32m      5\u001b[0m \u001b[38;5;28mself\u001b[39m\u001b[38;5;241m.\u001b[39mfirst \u001b[38;5;241m=\u001b[39m first\n\u001b[1;32m      6\u001b[0m \u001b[38;5;28mself\u001b[39m\u001b[38;5;241m.\u001b[39mlast \u001b[38;5;241m=\u001b[39m last\n\u001b[0;32m----> 7\u001b[0m \u001b[38;5;28mself\u001b[39m\u001b[38;5;241m.\u001b[39memail \u001b[38;5;241m=\u001b[39m \u001b[43mfirst\u001b[49m\u001b[38;5;241;43m.\u001b[39;49m\u001b[43msplit\u001b[49m\u001b[43m[\u001b[49m\u001b[43m:\u001b[49m\u001b[38;5;241;43m2\u001b[39;49m\u001b[43m]\u001b[49m \u001b[38;5;241m+\u001b[39m \u001b[38;5;124m'\u001b[39m\u001b[38;5;124m.\u001b[39m\u001b[38;5;124m'\u001b[39m \u001b[38;5;241m+\u001b[39m last\u001b[38;5;241m.\u001b[39msplit[:\u001b[38;5;241m2\u001b[39m] \u001b[38;5;241m+\u001b[39m \u001b[38;5;124m'\u001b[39m\u001b[38;5;124m@email.com\u001b[39m\u001b[38;5;124m'\u001b[39m\n\u001b[1;32m      8\u001b[0m \u001b[38;5;28mself\u001b[39m\u001b[38;5;241m.\u001b[39mpay \u001b[38;5;241m=\u001b[39m pay\n\u001b[1;32m      9\u001b[0m Employee\u001b[38;5;241m.\u001b[39memp_num \u001b[38;5;241m+\u001b[39m\u001b[38;5;241m=\u001b[39m \u001b[38;5;241m1\u001b[39m\n",
      "\u001b[0;31mTypeError\u001b[0m: 'builtin_function_or_method' object is not subscriptable"
     ]
    }
   ],
   "source": [
    "class Employee:\n",
    "  emp_num = 0 # works like static variable common to all objects of a class\n",
    "\n",
    "  def __init__(self, first, last, pay):\n",
    "    self.first = first\n",
    "    self.last = last\n",
    "    self.email = first.split + '.' + last.split + '@email.com'\n",
    "    self.pay = pay\n",
    "    Employee.emp_num += 1\n",
    "  \n",
    "  def fullname(self):\n",
    "    return f'{self.first} {self.last}'\n",
    "  \n",
    "  def applyRaise(self, raise_):\n",
    "    self.pay = int(self.pay * raise_)\n",
    "\n",
    "  def __str__(self): \n",
    "    return f'{self.fullname()} - {self.email}'\n",
    "\n",
    "  @staticmethod # (Decorator) same working procedure for all objects of a class \n",
    "  def is_holiday(day):\n",
    "    holidays = [1, 30, 49, 350]\n",
    "    if day in holidays:\n",
    "        return True\n",
    "    else:\n",
    "      return False\n",
    "\n",
    "\n",
    "print(Employee.emp_num)\n",
    "\n",
    "emp_1 = Employee('musical', 'nasir', 50000)\n",
    "\n",
    "\n",
    "\n",
    "print(Employee.emp_num)\n",
    "\n",
    "print(emp_1.fullname())\n",
    "\n",
    "emp_1.applyRaise(1.05)\n",
    "print(emp_1.pay)\n",
    "\n",
    "print(Employee.is_holiday(30))\n",
    "print(Employee.is_holiday(31))\n",
    "\n",
    "print(emp_1)"
   ]
  },
  {
   "cell_type": "code",
   "execution_count": null,
   "metadata": {
    "colab": {
     "base_uri": "https://localhost:8080/"
    },
    "id": "9SSpuAgjjWB0",
    "outputId": "843db419-9a9b-4fa4-ca04-bca10edb3c86"
   },
   "outputs": [],
   "source": [
    "class Employee:\n",
    "  emp_num = 0\n",
    "  def __init__(self, first, last, pay):\n",
    "    self.first = first\n",
    "    self.last = last\n",
    "    self.email = first + '.' + last + '@email.com'\n",
    "    self.pay = pay\n",
    "    Employee.emp_num += 1\n",
    "\n",
    "  def fullname(self):\n",
    "    return f'{self.first} {self.last}'\n",
    "  \n",
    "  def applyRaise(self,raise_):\n",
    "    self.pay = int(self.pay * raise_)\n",
    "\n",
    "\n",
    "class Developer(Employee):\n",
    "    def __init__(self, first, last, pay, prog_lang):\n",
    "        super().__init__(first, last, pay)\n",
    "        self.prog_lang = prog_lang\n",
    "\n",
    "\n",
    "class Manager(Employee):\n",
    "  def __init__(self, first, last, pay, employees=None):\n",
    "      super().__init__(first, last, pay)\n",
    "      if employees is None:\n",
    "          self.employees = []\n",
    "      else:\n",
    "          self.employees = employees\n",
    "\n",
    "  def add_emp(self, emp):\n",
    "      if emp not in self.employees:\n",
    "          self.employees.append(emp)\n",
    "\n",
    "  def remove_emp(self, emp):\n",
    "      if emp in self.employees:\n",
    "          self.employees.remove(emp)\n",
    "\n",
    "  def print_emps(self):\n",
    "      for emp in self.employees:\n",
    "          print('-->', emp.fullname())\n",
    "\n",
    "dev_1 = Developer('Maria', 'Muna', 500000000, 'Python')\n",
    "dev_2 = Developer('Test', 'Employee', 60000, 'Java')\n",
    "\n",
    "mgr_1 = Manager('Sue', 'Smith', 90000, [dev_1])\n",
    "print(mgr_1.email)\n",
    "\n",
    "mgr_1.add_emp(dev_2)\n",
    "mgr_1.print_emps()\n",
    "print()\n",
    "\n",
    "mgr_1.remove_emp(dev_2)\n",
    "mgr_1.print_emps()\n",
    "print()\n",
    "\n",
    "print(isinstance(mgr_1, Manager))  # Is mgr_1 an instance of Manager? \n",
    "print(isinstance(mgr_1, Employee))\n",
    "print(isinstance(mgr_1, Developer))\n",
    "print()\n",
    "\n",
    "print(issubclass(Developer, Employee)) # Is Developer class a subclass of Employee class??"
   ]
  }
 ],
 "metadata": {
  "colab": {
   "provenance": []
  },
  "gpuClass": "standard",
  "kernelspec": {
   "display_name": "Python 3 (ipykernel)",
   "language": "python",
   "name": "python3"
  },
  "language_info": {
   "codemirror_mode": {
    "name": "ipython",
    "version": 3
   },
   "file_extension": ".py",
   "mimetype": "text/x-python",
   "name": "python",
   "nbconvert_exporter": "python",
   "pygments_lexer": "ipython3",
   "version": "3.9.15"
  }
 },
 "nbformat": 4,
 "nbformat_minor": 1
}
