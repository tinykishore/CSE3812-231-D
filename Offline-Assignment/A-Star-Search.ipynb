{
 "cells": [
  {
   "cell_type": "markdown",
   "metadata": {},
   "source": [
    "### Assignment #1: A star (A*) search algorithm\n",
    "##### Wed Feb 22, 2023\n",
    "##### CSE 3812 Artificial Intelligence Laboratory\n",
    "<hr>"
   ]
  },
  {
   "cell_type": "markdown",
   "metadata": {},
   "source": [
    "#### Importing libraries\n",
    "In A* search algorithm, we need to import the queue library to use the priority queue."
   ]
  },
  {
   "cell_type": "code",
   "execution_count": 1,
   "metadata": {},
   "outputs": [],
   "source": [
    "import queue"
   ]
  },
  {
   "cell_type": "markdown",
   "metadata": {},
   "source": [
    "#### Defining the variables\n",
    "We need to define the variables that we will use in the algorithm. The variables are:\n",
    "- **`tree`**: The tree that we will use in the algorithm. It is a dictionary that contains the nodes and the edges of the tree.\n",
    "- **`start_node`**: The start node that we will use in the algorithm.\n",
    "- **`goal_node`**: The goal node that we will use in the algorithm.\n",
    "- **`heuristic_list`**: The heuristic function that we will use in the algorithm. It is a dictionary that contains the heuristic values of the nodes.\n",
    "- **`cost_list`**: It is a dictionary that contains the cost values of the edges.\n",
    "- **`queue`**: The opened list that we will use in the algorithm. It is a priority queue that contains the nodes that are not expanded yet.\n",
    "- **`optimal_path`**: The optimal path that we will use in the algorithm. It is a list that contains the nodes that are in the optimal path."
   ]
  },
  {
   "cell_type": "code",
   "execution_count": 2,
   "metadata": {},
   "outputs": [],
   "source": [
    "# Define the tree\n",
    "tree = {\n",
    "    'S': [\n",
    "        ['A', 1], ['B', 4],\n",
    "    ],\n",
    "    'A': [\n",
    "        ['B', 2], ['C', 5], ['D', 12],\n",
    "    ],\n",
    "    'B': [\n",
    "        ['C', 2],\n",
    "    ],\n",
    "    'C': [\n",
    "        ['D', 3],\n",
    "    ],\n",
    "}\n",
    "\n",
    "start_node = 'S'\n",
    "goal_node = 'D'\n",
    "\n",
    "# Define the heuristic function\n",
    "heuristic_list = {'S': 7, 'A': 6, 'B': 3, 'C': 1, 'D': 0}\n",
    "\n",
    "# Define the cost list\n",
    "cost_list = {'S': 0}\n",
    "\n",
    "# Define minimum priority queue\n",
    "queue = queue.PriorityQueue()\n",
    "\n",
    "# Define the optimal path list\n",
    "optimal_path = []"
   ]
  },
  {
   "cell_type": "markdown",
   "metadata": {},
   "source": [
    "#### Performing the A* search algorithm\n",
    "In this part, we will perform the A* search algorithm. The algorithm is:\n",
    "- While the queue is not empty:\n",
    "- Add the start node to the queue.\n",
    "    - Get the current node from the queue.\n",
    "    - If the current node is in the optimal path, remove it from the optimal path.\n",
    "    - Add the current node to the optimal path.\n",
    "    - If the current node is the goal node, break the loop.\n",
    "    - Get the children of the current node and store it into the child array.\n",
    "    - For each child in the child array:\n",
    "        - Get the child node name.\n",
    "        - Get the child node cost.\n",
    "        - If the child node is not in the cost list or the cost of the current node plus the cost of the edge is less than the cost of the child node:\n",
    "            1. Add the cost of the current node plus the cost of the edge to the cost list.\n",
    "            2. Add the child node to the opened list.\n"
   ]
  },
  {
   "cell_type": "code",
   "execution_count": 3,
   "metadata": {},
   "outputs": [],
   "source": [
    "# Add start node to opened_list\n",
    "queue.put((heuristic_list[start_node], start_node))\n",
    "\n",
    "while not queue.empty():\n",
    "    # get current node from the opened_list (minimum priority queue)\n",
    "    current_node = queue.get()[1]\n",
    "\n",
    "    # If current_node is in optimal_path, remove it\n",
    "    if current_node in optimal_path:\n",
    "        optimal_path.remove(current_node)\n",
    "\n",
    "    # Add current_node to optimal_path\n",
    "    optimal_path.append(current_node)\n",
    "\n",
    "    # Goal Test, if Goal is found, break the loop\n",
    "    if current_node == goal_node:\n",
    "        break\n",
    "\n",
    "    # Get the children of the current_node and store it into child array\n",
    "    for child in tree[current_node]:\n",
    "        child_node = child[0]  # node name\n",
    "        child_cost = child[1]  # edge cost\n",
    "\n",
    "        # If child_node is not in cost_list or cost_list[current_node] + child_cost < cost_list[child_node]\n",
    "        \"\"\"\n",
    "            Basically:\n",
    "\n",
    "              > if the child_node is not in the cost_list\n",
    "              OR\n",
    "              > the cost of the current_node plus the cost of the edge is less than the cost of the child_node\n",
    "              THEN\n",
    "                    > Add the cost of the current_node plus the cost of the edge to the cost_list\n",
    "                    > Add the child_node to the opened_list with heuristic_list[child_node] as priority\n",
    "\n",
    "        \"\"\"\n",
    "        if child_node not in cost_list or cost_list[current_node] + child_cost < cost_list[child_node]:\n",
    "            # Add new node with current_node cost + edge cost to cost_list\n",
    "            cost_list[child_node] = cost_list[current_node] + child_cost\n",
    "            # Add child_node to opened_list with cost_list[child_node] + heuristic_list[child_node] as priority\n",
    "            queue.put((cost_list[child_node] + heuristic_list[child_node], child_node))"
   ]
  },
  {
   "cell_type": "markdown",
   "source": [
    "#### Printing the results\n",
    "In this part, we will print the results of the algorithm. The results are:\n",
    "- **`optimal_path_str`**: The optimal path that we will use in the algorithm. It is a string that contains the nodes that are in the optimal path.\n",
    "- **`cost_list[goal_node]`**: The total cost of the optimal path. It is the cost of the goal node."
   ],
   "metadata": {
    "collapsed": false
   }
  },
  {
   "cell_type": "code",
   "execution_count": 4,
   "outputs": [
    {
     "name": "stdout",
     "output_type": "stream",
     "text": [
      "Optimal path:  S > A > B > C > D\n",
      "Total cost:  8\n"
     ]
    }
   ],
   "source": [
    "# Print the Optimal Path\n",
    "optimal_path_str = ' > '.join(optimal_path)\n",
    "print(\"Optimal path: \", optimal_path_str)\n",
    "\n",
    "# Print the Total Cost\n",
    "print(\"Total cost: \", cost_list[goal_node])"
   ],
   "metadata": {
    "collapsed": false
   }
  }
 ],
 "metadata": {
  "kernelspec": {
   "display_name": "Python 3.10 (tensorflow)",
   "language": "python",
   "name": "tensorflow"
  },
  "language_info": {
   "codemirror_mode": {
    "name": "ipython",
    "version": 3
   },
   "file_extension": ".py",
   "mimetype": "text/x-python",
   "name": "python",
   "nbconvert_exporter": "python",
   "pygments_lexer": "ipython3",
   "version": "3.9.15"
  }
 },
 "nbformat": 4,
 "nbformat_minor": 1
}
